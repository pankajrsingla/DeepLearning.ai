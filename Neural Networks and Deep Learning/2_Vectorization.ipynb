{
 "cells": [
  {
   "cell_type": "code",
   "execution_count": null,
   "metadata": {},
   "outputs": [],
   "source": [
    "import numpy as np\n",
    "a = np.array([1,2,3,4])\n",
    "print(a)"
   ]
  },
  {
   "cell_type": "markdown",
   "metadata": {},
   "source": [
    "Speed-up using vectorization"
   ]
  },
  {
   "cell_type": "code",
   "execution_count": null,
   "metadata": {},
   "outputs": [],
   "source": [
    "import time\n",
    "a = np.random.rand(100000)\n",
    "b = np.random.rand(100000)\n",
    "\n",
    "tic = time.time()\n",
    "c = np.dot(a,b) # Dot product of a and b. a' * b\n",
    "toc = time.time()\n",
    "print(c)\n",
    "print(\"Vectorized Version: \" + str(1000*(toc - tic)) + \"ms\")\n",
    "\n",
    "c = 0\n",
    "tic = time.time()\n",
    "for i in range(100000):\n",
    "    c += a[i] * b[i]\n",
    "\n",
    "toc = time.time()\n",
    "print(c)\n",
    "print(\"For loop: \" + str(1000*(toc - tic)) + \"ms\")\n",
    "\n",
    "# Vectorized version takes hardly 1ms, but for loop takes >50ms. "
   ]
  },
  {
   "cell_type": "code",
   "execution_count": null,
   "metadata": {},
   "outputs": [],
   "source": [
    "# Another example - Exponentiation:\n",
    "\n",
    "import math\n",
    "n = 4\n",
    "v = np.random.rand(n)\n",
    "u = np.zeros((n,1))\n",
    "\n",
    "# Non-vectorized exponentiation\n",
    "for i in range(n):\n",
    "    u[i] = math.exp(v[i])\n",
    "print(u)\n",
    "\n",
    "# Vectorized exponentiation\n",
    "u = np.exp(v)\n",
    "print(u)"
   ]
  },
  {
   "cell_type": "code",
   "execution_count": null,
   "metadata": {},
   "outputs": [],
   "source": [
    "# Transpose of single row or column in Python -> Doesn't change the array.\n",
    "\n",
    "v = np.array([1,2,3])\n",
    "print(v.shape)\n",
    "print(np.transpose(v).shape)\n",
    "print(v.T.shape)\n",
    "print(v)\n",
    "print(np.transpose(v))\n",
    "print(v.T)"
   ]
  },
  {
   "cell_type": "code",
   "execution_count": null,
   "metadata": {},
   "outputs": [],
   "source": [
    "# Correct way for 1-D vector:\n",
    "a = [3,6,9]\n",
    "b = np.array(a)\n",
    "print(b.T) # Here it didn't transpose because 'a' is 1 dimensional\n",
    "b = np.array([a])\n",
    "print(b.T) # Here it didn't transpose because 'a' is 1 dimensional"
   ]
  },
  {
   "cell_type": "code",
   "execution_count": null,
   "metadata": {},
   "outputs": [],
   "source": [
    "# Broadcasting\n",
    "x = np.array([[1,2,3],[4,5,6]])\n",
    "y = np.array([[10,100,1000]])\n",
    "print(x+y)\n",
    "z = np.array([[10,100,1000]])\n",
    "print(x+z)"
   ]
  },
  {
   "cell_type": "code",
   "execution_count": null,
   "metadata": {},
   "outputs": [],
   "source": [
    "# Column wise sum\n",
    "A = np.array([[56,0,4.4,68],\n",
    "             [1.2,104,52,8],\n",
    "             [1.8,135,99,0.9]])\n",
    "# print(A)\n",
    "\n",
    "cal = A.sum(axis = 0) # Does the summation for each column in A\n",
    "# cal = A.sum(axis = 1) # Does the summation for each row in A\n",
    "print(cal)"
   ]
  },
  {
   "cell_type": "code",
   "execution_count": null,
   "metadata": {},
   "outputs": [],
   "source": [
    "percentage = 100* A/cal # Divide each value in A by its column sum\n",
    "# percentage = 100* A/cal.reshape(1,4) # Same as above, just being more explicit.\n",
    "# Here, we know cal is 1x4. If you don't, then reshape might be handy.\n",
    "print(percentage)"
   ]
  },
  {
   "cell_type": "code",
   "execution_count": null,
   "metadata": {},
   "outputs": [],
   "source": [
    "# Strange things in Python\n",
    "z = np.array([[10,100,1000]])\n",
    "z + z.T"
   ]
  },
  {
   "cell_type": "code",
   "execution_count": null,
   "metadata": {},
   "outputs": [],
   "source": [
    "a = np.random.randn(5)\n",
    "print(a.shape) # (5,) => Rank 1 array"
   ]
  },
  {
   "cell_type": "code",
   "execution_count": null,
   "metadata": {},
   "outputs": [],
   "source": [
    "print(a)"
   ]
  },
  {
   "cell_type": "code",
   "execution_count": null,
   "metadata": {},
   "outputs": [],
   "source": [
    "print(a.T)\n",
    "# Same as print(a)."
   ]
  },
  {
   "cell_type": "code",
   "execution_count": null,
   "metadata": {},
   "outputs": [],
   "source": [
    "print(np.dot(a,a.T)) # Single number. "
   ]
  },
  {
   "cell_type": "code",
   "execution_count": null,
   "metadata": {},
   "outputs": [],
   "source": [
    "# So, instead of creating arrays with dimensions (5,), you should use this:\n",
    "a = np.random.randn(5,1) # This makes sure a is 5x1 column vector.\n",
    "# Or a 5x1 matrix.\n",
    "print(a)"
   ]
  },
  {
   "cell_type": "code",
   "execution_count": null,
   "metadata": {},
   "outputs": [],
   "source": [
    "print(a.T)\n",
    "# This is a row-vector.\n",
    "# This time, it actually prints a.T, unlike when a was (5,)\n",
    "# [[  ]] denotes matrix, [] is array."
   ]
  },
  {
   "cell_type": "code",
   "execution_count": null,
   "metadata": {},
   "outputs": [],
   "source": [
    "print(np.dot(a,a.T))\n",
    "# Gives the matrix formed by multiplying 5x1 and 1x5 vectors."
   ]
  },
  {
   "cell_type": "code",
   "execution_count": null,
   "metadata": {},
   "outputs": [],
   "source": [
    "x=np.array([[[1],[2]],[[3],[4]]])\n",
    "x.shape"
   ]
  },
  {
   "cell_type": "code",
   "execution_count": null,
   "metadata": {},
   "outputs": [],
   "source": [
    "a = np.random.randn(2,3) # a.shape = (2, 3)\n",
    "b = np.random.randn(2, 1) #  b.shape = (2, 1)\n",
    "c = a + b\n",
    "c.shape"
   ]
  },
  {
   "cell_type": "code",
   "execution_count": null,
   "metadata": {},
   "outputs": [],
   "source": [
    "a = np.random.randn(4,3) # a.shape = (4,3)\n",
    "b = np.random.randn(3,2) # b.shape = (3,2)\n",
    "# c = a*b # Error\n",
    "# c.shape # Error\n",
    "# print(np.matmul(a,b).shape) # (4,2)\n",
    "print(np.dot(a,b).shape) # (4,2)"
   ]
  },
  {
   "cell_type": "code",
   "execution_count": null,
   "metadata": {},
   "outputs": [],
   "source": [
    "a = np.random.randn(12288,150) # a.shape = (12288, 150)\n",
    "b = np.random.randn(150, 45) # b.shape = (150, 45)\n",
    "c = np.dot(a,b)\n",
    "c.shape"
   ]
  },
  {
   "cell_type": "code",
   "execution_count": null,
   "metadata": {},
   "outputs": [],
   "source": [
    "x = np.array([1,2,3,4,5,6,7,8])\n",
    "x.shape # (8,)\n",
    "x.reshape(2, 2, 2) # Valid\n",
    "# x.reshape(-1, 3) # Invalid\n",
    "# x.reshape(2, 4, 4) # Invalid\n",
    "# x.reshape(1, 4, 3) # Invalid\n"
   ]
  },
  {
   "cell_type": "code",
   "execution_count": null,
   "metadata": {},
   "outputs": [],
   "source": [
    "a=np.array([[2,1],[1,3]])\n",
    "a*a"
   ]
  },
  {
   "cell_type": "code",
   "execution_count": 114,
   "metadata": {},
   "outputs": [
    {
     "data": {
      "text/plain": [
       "array([[ 0.02233165, -0.09957483, -0.52494158],\n",
       "       [-0.10875375,  0.17072098, -0.15072988],\n",
       "       [-0.22272761,  0.00365404, -0.92086248]])"
      ]
     },
     "execution_count": 114,
     "metadata": {},
     "output_type": "execute_result"
    }
   ],
   "source": [
    "a = np.random.randn(1,3) # a.shape = (1,3)\n",
    "b = np.random.randn(3, 3) # b.shape = (3,3)\n",
    "c = a*b\n",
    "c"
   ]
  },
  {
   "cell_type": "code",
   "execution_count": 112,
   "metadata": {},
   "outputs": [
    {
     "data": {
      "text/plain": [
       "array([[ 0.03232693,  0.10670023, -0.34457429],\n",
       "       [ 1.12291893, -0.09352196, -0.06367879],\n",
       "       [-0.27224264,  0.09535837, -0.07005166]])"
      ]
     },
     "execution_count": 112,
     "metadata": {},
     "output_type": "execute_result"
    }
   ],
   "source": [
    "a = np.random.randn(3,3)\n",
    "b = np.random.randn(3,1)\n",
    "c = a*b\n",
    "c"
   ]
  }
 ],
 "metadata": {
  "interpreter": {
   "hash": "f7577c73012365dacf86d6b5fc6925d0570ace8e2c99a6f0402f0dc1a0e403c4"
  },
  "kernelspec": {
   "display_name": "Python 3.10.2 64-bit",
   "language": "python",
   "name": "python3"
  },
  "language_info": {
   "codemirror_mode": {
    "name": "ipython",
    "version": 3
   },
   "file_extension": ".py",
   "mimetype": "text/x-python",
   "name": "python",
   "nbconvert_exporter": "python",
   "pygments_lexer": "ipython3",
   "version": "3.10.2"
  },
  "orig_nbformat": 4
 },
 "nbformat": 4,
 "nbformat_minor": 2
}
